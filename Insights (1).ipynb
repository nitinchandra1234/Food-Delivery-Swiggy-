{
 "cells": [
  {
   "cell_type": "code",
   "execution_count": 37,
   "id": "495bd5c3",
   "metadata": {},
   "outputs": [],
   "source": [
    "import pandas as pd\n",
    "import numpy as np\n",
    "import seaborn as sns\n",
    "import matplotlib.pyplot as plt"
   ]
  },
  {
   "cell_type": "code",
   "execution_count": 2,
   "id": "cbdd1bf5",
   "metadata": {},
   "outputs": [
    {
     "data": {
      "text/html": [
       "<div>\n",
       "<style scoped>\n",
       "    .dataframe tbody tr th:only-of-type {\n",
       "        vertical-align: middle;\n",
       "    }\n",
       "\n",
       "    .dataframe tbody tr th {\n",
       "        vertical-align: top;\n",
       "    }\n",
       "\n",
       "    .dataframe thead th {\n",
       "        text-align: right;\n",
       "    }\n",
       "</style>\n",
       "<table border=\"1\" class=\"dataframe\">\n",
       "  <thead>\n",
       "    <tr style=\"text-align: right;\">\n",
       "      <th></th>\n",
       "      <th>Restaurant_ID</th>\n",
       "      <th>Restaurant_Name</th>\n",
       "      <th>Cuisines</th>\n",
       "      <th>Price_for_One</th>\n",
       "      <th>Delivery_Time</th>\n",
       "      <th>Location</th>\n",
       "      <th>Rating</th>\n",
       "      <th>Delivery_review_number</th>\n",
       "    </tr>\n",
       "  </thead>\n",
       "  <tbody>\n",
       "    <tr>\n",
       "      <th>0</th>\n",
       "      <td>100001</td>\n",
       "      <td>Easy Bites by Hotel Empire</td>\n",
       "      <td>Snacks, Fast Food, Beverages</td>\n",
       "      <td>75</td>\n",
       "      <td>29</td>\n",
       "      <td>Ashok Nagar</td>\n",
       "      <td>4.1</td>\n",
       "      <td>1000.0</td>\n",
       "    </tr>\n",
       "    <tr>\n",
       "      <th>1</th>\n",
       "      <td>100002</td>\n",
       "      <td>Meghana Foods</td>\n",
       "      <td>Biryani, Andhra, South Indian, North Indian, C...</td>\n",
       "      <td>250</td>\n",
       "      <td>24</td>\n",
       "      <td>Ashok Nagar</td>\n",
       "      <td>4.5</td>\n",
       "      <td>10000.0</td>\n",
       "    </tr>\n",
       "    <tr>\n",
       "      <th>2</th>\n",
       "      <td>100003</td>\n",
       "      <td>Hotel Empire</td>\n",
       "      <td>North Indian, Kebabs, Biryani</td>\n",
       "      <td>225</td>\n",
       "      <td>29</td>\n",
       "      <td>Brigade Road</td>\n",
       "      <td>4.3</td>\n",
       "      <td>10000.0</td>\n",
       "    </tr>\n",
       "    <tr>\n",
       "      <th>3</th>\n",
       "      <td>100004</td>\n",
       "      <td>Kannur Food Point</td>\n",
       "      <td>Kerala, Chinese</td>\n",
       "      <td>150</td>\n",
       "      <td>29</td>\n",
       "      <td>Tavarekere</td>\n",
       "      <td>3.9</td>\n",
       "      <td>10000.0</td>\n",
       "    </tr>\n",
       "    <tr>\n",
       "      <th>4</th>\n",
       "      <td>100005</td>\n",
       "      <td>N.Razakhiya Hotel</td>\n",
       "      <td>North Indian, Chinese, Tandoor, Sweets, Beverages</td>\n",
       "      <td>150</td>\n",
       "      <td>34</td>\n",
       "      <td>Nagawara</td>\n",
       "      <td>3.9</td>\n",
       "      <td>1000.0</td>\n",
       "    </tr>\n",
       "  </tbody>\n",
       "</table>\n",
       "</div>"
      ],
      "text/plain": [
       "   Restaurant_ID             Restaurant_Name  \\\n",
       "0         100001  Easy Bites by Hotel Empire   \n",
       "1         100002               Meghana Foods   \n",
       "2         100003                Hotel Empire   \n",
       "3         100004           Kannur Food Point   \n",
       "4         100005           N.Razakhiya Hotel   \n",
       "\n",
       "                                            Cuisines  Price_for_One  \\\n",
       "0                       Snacks, Fast Food, Beverages             75   \n",
       "1  Biryani, Andhra, South Indian, North Indian, C...            250   \n",
       "2                      North Indian, Kebabs, Biryani            225   \n",
       "3                                    Kerala, Chinese            150   \n",
       "4  North Indian, Chinese, Tandoor, Sweets, Beverages            150   \n",
       "\n",
       "   Delivery_Time      Location  Rating  Delivery_review_number  \n",
       "0             29   Ashok Nagar     4.1                  1000.0  \n",
       "1             24   Ashok Nagar     4.5                 10000.0  \n",
       "2             29  Brigade Road     4.3                 10000.0  \n",
       "3             29    Tavarekere     3.9                 10000.0  \n",
       "4             34      Nagawara     3.9                  1000.0  "
      ]
     },
     "execution_count": 2,
     "metadata": {},
     "output_type": "execute_result"
    }
   ],
   "source": [
    "df=pd.read_csv(r\"C:\\Users\\ARGHYA\\Downloads\\Final_Data.csv\")\n",
    "df.head()"
   ]
  },
  {
   "cell_type": "code",
   "execution_count": 38,
   "id": "ec85ad3a",
   "metadata": {},
   "outputs": [
    {
     "name": "stdout",
     "output_type": "stream",
     "text": [
      "<class 'pandas.core.frame.DataFrame'>\n",
      "RangeIndex: 863 entries, 0 to 862\n",
      "Data columns (total 8 columns):\n",
      " #   Column                  Non-Null Count  Dtype  \n",
      "---  ------                  --------------  -----  \n",
      " 0   Restaurant_ID           863 non-null    int64  \n",
      " 1   Restaurant_Name         863 non-null    object \n",
      " 2   Cuisines                863 non-null    object \n",
      " 3   Price_for_One           863 non-null    int64  \n",
      " 4   Delivery_Time           863 non-null    int64  \n",
      " 5   Location                862 non-null    object \n",
      " 6   Rating                  863 non-null    float64\n",
      " 7   Delivery_review_number  862 non-null    float64\n",
      "dtypes: float64(2), int64(3), object(3)\n",
      "memory usage: 54.1+ KB\n"
     ]
    }
   ],
   "source": [
    "df.info()"
   ]
  },
  {
   "cell_type": "code",
   "execution_count": 40,
   "id": "a4f4490c",
   "metadata": {},
   "outputs": [
    {
     "data": {
      "text/plain": [
       "Restaurant_ID             0\n",
       "Restaurant_Name           0\n",
       "Cuisines                  0\n",
       "Price_for_One             0\n",
       "Delivery_Time             0\n",
       "Location                  1\n",
       "Rating                    0\n",
       "Delivery_review_number    1\n",
       "dtype: int64"
      ]
     },
     "execution_count": 40,
     "metadata": {},
     "output_type": "execute_result"
    }
   ],
   "source": [
    "df.isnull().sum()"
   ]
  },
  {
   "cell_type": "code",
   "execution_count": 42,
   "id": "b3e1d587",
   "metadata": {},
   "outputs": [
    {
     "data": {
      "text/html": [
       "<div>\n",
       "<style scoped>\n",
       "    .dataframe tbody tr th:only-of-type {\n",
       "        vertical-align: middle;\n",
       "    }\n",
       "\n",
       "    .dataframe tbody tr th {\n",
       "        vertical-align: top;\n",
       "    }\n",
       "\n",
       "    .dataframe thead th {\n",
       "        text-align: right;\n",
       "    }\n",
       "</style>\n",
       "<table border=\"1\" class=\"dataframe\">\n",
       "  <thead>\n",
       "    <tr style=\"text-align: right;\">\n",
       "      <th></th>\n",
       "      <th>Restaurant_ID</th>\n",
       "      <th>Restaurant_Name</th>\n",
       "      <th>Cuisines</th>\n",
       "      <th>Price_for_One</th>\n",
       "      <th>Delivery_Time</th>\n",
       "      <th>Location</th>\n",
       "      <th>Rating</th>\n",
       "      <th>Delivery_review_number</th>\n",
       "    </tr>\n",
       "  </thead>\n",
       "  <tbody>\n",
       "    <tr>\n",
       "      <th>0</th>\n",
       "      <td>100001</td>\n",
       "      <td>Easy Bites by Hotel Empire</td>\n",
       "      <td>Snacks, Fast Food, Beverages</td>\n",
       "      <td>75</td>\n",
       "      <td>29</td>\n",
       "      <td>Ashok Nagar</td>\n",
       "      <td>4.1</td>\n",
       "      <td>1000.0</td>\n",
       "    </tr>\n",
       "    <tr>\n",
       "      <th>1</th>\n",
       "      <td>100002</td>\n",
       "      <td>Meghana Foods</td>\n",
       "      <td>Biryani, Andhra, South Indian, North Indian, C...</td>\n",
       "      <td>250</td>\n",
       "      <td>24</td>\n",
       "      <td>Ashok Nagar</td>\n",
       "      <td>4.5</td>\n",
       "      <td>10000.0</td>\n",
       "    </tr>\n",
       "    <tr>\n",
       "      <th>2</th>\n",
       "      <td>100003</td>\n",
       "      <td>Hotel Empire</td>\n",
       "      <td>North Indian, Kebabs, Biryani</td>\n",
       "      <td>225</td>\n",
       "      <td>29</td>\n",
       "      <td>Brigade Road</td>\n",
       "      <td>4.3</td>\n",
       "      <td>10000.0</td>\n",
       "    </tr>\n",
       "    <tr>\n",
       "      <th>3</th>\n",
       "      <td>100004</td>\n",
       "      <td>Kannur Food Point</td>\n",
       "      <td>Kerala, Chinese</td>\n",
       "      <td>150</td>\n",
       "      <td>29</td>\n",
       "      <td>Tavarekere</td>\n",
       "      <td>3.9</td>\n",
       "      <td>10000.0</td>\n",
       "    </tr>\n",
       "    <tr>\n",
       "      <th>4</th>\n",
       "      <td>100005</td>\n",
       "      <td>N.Razakhiya Hotel</td>\n",
       "      <td>North Indian, Chinese, Tandoor, Sweets, Beverages</td>\n",
       "      <td>150</td>\n",
       "      <td>34</td>\n",
       "      <td>Nagawara</td>\n",
       "      <td>3.9</td>\n",
       "      <td>1000.0</td>\n",
       "    </tr>\n",
       "  </tbody>\n",
       "</table>\n",
       "</div>"
      ],
      "text/plain": [
       "   Restaurant_ID             Restaurant_Name  \\\n",
       "0         100001  Easy Bites by Hotel Empire   \n",
       "1         100002               Meghana Foods   \n",
       "2         100003                Hotel Empire   \n",
       "3         100004           Kannur Food Point   \n",
       "4         100005           N.Razakhiya Hotel   \n",
       "\n",
       "                                            Cuisines  Price_for_One  \\\n",
       "0                       Snacks, Fast Food, Beverages             75   \n",
       "1  Biryani, Andhra, South Indian, North Indian, C...            250   \n",
       "2                      North Indian, Kebabs, Biryani            225   \n",
       "3                                    Kerala, Chinese            150   \n",
       "4  North Indian, Chinese, Tandoor, Sweets, Beverages            150   \n",
       "\n",
       "   Delivery_Time      Location  Rating  Delivery_review_number  \n",
       "0             29   Ashok Nagar     4.1                  1000.0  \n",
       "1             24   Ashok Nagar     4.5                 10000.0  \n",
       "2             29  Brigade Road     4.3                 10000.0  \n",
       "3             29    Tavarekere     3.9                 10000.0  \n",
       "4             34      Nagawara     3.9                  1000.0  "
      ]
     },
     "execution_count": 42,
     "metadata": {},
     "output_type": "execute_result"
    }
   ],
   "source": [
    "df = df.dropna()\n",
    "df.head()"
   ]
  },
  {
   "cell_type": "code",
   "execution_count": 43,
   "id": "76d3a36c",
   "metadata": {},
   "outputs": [
    {
     "data": {
      "text/html": [
       "<div>\n",
       "<style scoped>\n",
       "    .dataframe tbody tr th:only-of-type {\n",
       "        vertical-align: middle;\n",
       "    }\n",
       "\n",
       "    .dataframe tbody tr th {\n",
       "        vertical-align: top;\n",
       "    }\n",
       "\n",
       "    .dataframe thead th {\n",
       "        text-align: right;\n",
       "    }\n",
       "</style>\n",
       "<table border=\"1\" class=\"dataframe\">\n",
       "  <thead>\n",
       "    <tr style=\"text-align: right;\">\n",
       "      <th></th>\n",
       "      <th>Delivery_Time</th>\n",
       "      <th>Rating</th>\n",
       "    </tr>\n",
       "  </thead>\n",
       "  <tbody>\n",
       "    <tr>\n",
       "      <th>Delivery_Time</th>\n",
       "      <td>1.000000</td>\n",
       "      <td>-0.143308</td>\n",
       "    </tr>\n",
       "    <tr>\n",
       "      <th>Rating</th>\n",
       "      <td>-0.143308</td>\n",
       "      <td>1.000000</td>\n",
       "    </tr>\n",
       "  </tbody>\n",
       "</table>\n",
       "</div>"
      ],
      "text/plain": [
       "               Delivery_Time    Rating\n",
       "Delivery_Time       1.000000 -0.143308\n",
       "Rating             -0.143308  1.000000"
      ]
     },
     "execution_count": 43,
     "metadata": {},
     "output_type": "execute_result"
    }
   ],
   "source": [
    "correlation1 = df[['Delivery_Time', 'Rating']].corr()\n",
    "correlation1"
   ]
  },
  {
   "cell_type": "code",
   "execution_count": 44,
   "id": "79940c05",
   "metadata": {},
   "outputs": [
    {
     "data": {
      "text/plain": [
       "<Axes: >"
      ]
     },
     "execution_count": 44,
     "metadata": {},
     "output_type": "execute_result"
    },
    {
     "data": {
      "image/png": "[encoded data removed]",
      "text/plain": [
       "<Figure size 640x480 with 2 Axes>"
      ]
     },
     "metadata": {},
     "output_type": "display_data"
    }
   ],
   "source": [
    "sns.heatmap(correlation1, annot=True, cmap='coolwarm')"
   ]
  },
  {
   "cell_type": "code",
   "execution_count": 45,
   "id": "f6c90e8c",
   "metadata": {},
   "outputs": [
    {
     "data": {
      "text/html": [
       "<div>\n",
       "<style scoped>\n",
       "    .dataframe tbody tr th:only-of-type {\n",
       "        vertical-align: middle;\n",
       "    }\n",
       "\n",
       "    .dataframe tbody tr th {\n",
       "        vertical-align: top;\n",
       "    }\n",
       "\n",
       "    .dataframe thead th {\n",
       "        text-align: right;\n",
       "    }\n",
       "</style>\n",
       "<table border=\"1\" class=\"dataframe\">\n",
       "  <thead>\n",
       "    <tr style=\"text-align: right;\">\n",
       "      <th></th>\n",
       "      <th>Price_for_One</th>\n",
       "      <th>Rating</th>\n",
       "    </tr>\n",
       "  </thead>\n",
       "  <tbody>\n",
       "    <tr>\n",
       "      <th>Price_for_One</th>\n",
       "      <td>1.000000</td>\n",
       "      <td>0.203732</td>\n",
       "    </tr>\n",
       "    <tr>\n",
       "      <th>Rating</th>\n",
       "      <td>0.203732</td>\n",
       "      <td>1.000000</td>\n",
       "    </tr>\n",
       "  </tbody>\n",
       "</table>\n",
       "</div>"
      ],
      "text/plain": [
       "               Price_for_One    Rating\n",
       "Price_for_One       1.000000  0.203732\n",
       "Rating              0.203732  1.000000"
      ]
     },
     "execution_count": 45,
     "metadata": {},
     "output_type": "execute_result"
    }
   ],
   "source": [
    "correlation2 = df[['Price_for_One', 'Rating']].corr()\n",
    "correlation2"
   ]
  },
  {
   "cell_type": "code",
   "execution_count": 46,
   "id": "8ad78857",
   "metadata": {},
   "outputs": [
    {
     "data": {
      "text/plain": [
       "<Axes: >"
      ]
     },
     "execution_count": 46,
     "metadata": {},
     "output_type": "execute_result"
    },
    {
     "data": {
      "image/png": "[encoded data removed]",
      "text/plain": [
       "<Figure size 640x480 with 2 Axes>"
      ]
     },
     "metadata": {},
     "output_type": "display_data"
    }
   ],
   "source": [
    "sns.heatmap(correlation2, annot=True, cmap='coolwarm')"
   ]
  },
  {
   "cell_type": "code",
   "execution_count": 47,
   "id": "6106553c",
   "metadata": {},
   "outputs": [
    {
     "data": {
      "text/html": [
       "<div>\n",
       "<style scoped>\n",
       "    .dataframe tbody tr th:only-of-type {\n",
       "        vertical-align: middle;\n",
       "    }\n",
       "\n",
       "    .dataframe tbody tr th {\n",
       "        vertical-align: top;\n",
       "    }\n",
       "\n",
       "    .dataframe thead th {\n",
       "        text-align: right;\n",
       "    }\n",
       "</style>\n",
       "<table border=\"1\" class=\"dataframe\">\n",
       "  <thead>\n",
       "    <tr style=\"text-align: right;\">\n",
       "      <th></th>\n",
       "      <th>Delivery_review_number</th>\n",
       "      <th>Rating</th>\n",
       "    </tr>\n",
       "  </thead>\n",
       "  <tbody>\n",
       "    <tr>\n",
       "      <th>Delivery_review_number</th>\n",
       "      <td>1.00000</td>\n",
       "      <td>0.14369</td>\n",
       "    </tr>\n",
       "    <tr>\n",
       "      <th>Rating</th>\n",
       "      <td>0.14369</td>\n",
       "      <td>1.00000</td>\n",
       "    </tr>\n",
       "  </tbody>\n",
       "</table>\n",
       "</div>"
      ],
      "text/plain": [
       "                        Delivery_review_number   Rating\n",
       "Delivery_review_number                 1.00000  0.14369\n",
       "Rating                                 0.14369  1.00000"
      ]
     },
     "execution_count": 47,
     "metadata": {},
     "output_type": "execute_result"
    }
   ],
   "source": [
    "correlation3 = df[['Delivery_review_number', 'Rating']].corr()\n",
    "correlation3"
   ]
  },
  {
   "cell_type": "code",
   "execution_count": 48,
   "id": "aa27c0d9",
   "metadata": {},
   "outputs": [
    {
     "data": {
      "text/plain": [
       "<Axes: >"
      ]
     },
     "execution_count": 48,
     "metadata": {},
     "output_type": "execute_result"
    },
    {
     "data": {
      "image/png": "[encoded data removed]",
      "text/plain": [
       "<Figure size 640x480 with 2 Axes>"
      ]
     },
     "metadata": {},
     "output_type": "display_data"
    }
   ],
   "source": [
    "sns.heatmap(correlation3, annot=True, cmap='coolwarm')"
   ]
  },
  {
   "cell_type": "code",
   "execution_count": 49,
   "id": "8231fb91",
   "metadata": {},
   "outputs": [
    {
     "data": {
      "text/html": [
       "<div>\n",
       "<style scoped>\n",
       "    .dataframe tbody tr th:only-of-type {\n",
       "        vertical-align: middle;\n",
       "    }\n",
       "\n",
       "    .dataframe tbody tr th {\n",
       "        vertical-align: top;\n",
       "    }\n",
       "\n",
       "    .dataframe thead th {\n",
       "        text-align: right;\n",
       "    }\n",
       "</style>\n",
       "<table border=\"1\" class=\"dataframe\">\n",
       "  <thead>\n",
       "    <tr style=\"text-align: right;\">\n",
       "      <th></th>\n",
       "      <th>Price_for_One</th>\n",
       "      <th>Delivery_review_number</th>\n",
       "    </tr>\n",
       "  </thead>\n",
       "  <tbody>\n",
       "    <tr>\n",
       "      <th>Price_for_One</th>\n",
       "      <td>1.000000</td>\n",
       "      <td>-0.012014</td>\n",
       "    </tr>\n",
       "    <tr>\n",
       "      <th>Delivery_review_number</th>\n",
       "      <td>-0.012014</td>\n",
       "      <td>1.000000</td>\n",
       "    </tr>\n",
       "  </tbody>\n",
       "</table>\n",
       "</div>"
      ],
      "text/plain": [
       "                        Price_for_One  Delivery_review_number\n",
       "Price_for_One                1.000000               -0.012014\n",
       "Delivery_review_number      -0.012014                1.000000"
      ]
     },
     "execution_count": 49,
     "metadata": {},
     "output_type": "execute_result"
    }
   ],
   "source": [
    "correlation4 = df[['Price_for_One', 'Delivery_review_number']].corr()\n",
    "correlation4"
   ]
  },
  {
   "cell_type": "code",
   "execution_count": 50,
   "id": "44edb969",
   "metadata": {},
   "outputs": [
    {
     "data": {
      "text/plain": [
       "<Axes: >"
      ]
     },
     "execution_count": 50,
     "metadata": {},
     "output_type": "execute_result"
    },
    {
     "data": {
      "image/png": "[encoded data removed]",
      "text/plain": [
       "<Figure size 640x480 with 2 Axes>"
      ]
     },
     "metadata": {},
     "output_type": "display_data"
    }
   ],
   "source": [
    "sns.heatmap(correlation4, annot=True, cmap='coolwarm')"
   ]
  },
  {
   "cell_type": "code",
   "execution_count": 51,
   "id": "638eb632",
   "metadata": {},
   "outputs": [
    {
     "data": {
      "text/html": [
       "<div>\n",
       "<style scoped>\n",
       "    .dataframe tbody tr th:only-of-type {\n",
       "        vertical-align: middle;\n",
       "    }\n",
       "\n",
       "    .dataframe tbody tr th {\n",
       "        vertical-align: top;\n",
       "    }\n",
       "\n",
       "    .dataframe thead th {\n",
       "        text-align: right;\n",
       "    }\n",
       "</style>\n",
       "<table border=\"1\" class=\"dataframe\">\n",
       "  <thead>\n",
       "    <tr style=\"text-align: right;\">\n",
       "      <th></th>\n",
       "      <th>Restaurant_ID</th>\n",
       "      <th>Restaurant_Name</th>\n",
       "      <th>Cuisines</th>\n",
       "      <th>Price_for_One</th>\n",
       "      <th>Delivery_Time</th>\n",
       "      <th>Location</th>\n",
       "      <th>Rating</th>\n",
       "      <th>Delivery_review_number</th>\n",
       "    </tr>\n",
       "  </thead>\n",
       "  <tbody>\n",
       "    <tr>\n",
       "      <th>0</th>\n",
       "      <td>100001</td>\n",
       "      <td>Easy Bites by Hotel Empire</td>\n",
       "      <td>Snacks, Fast Food, Beverages</td>\n",
       "      <td>75</td>\n",
       "      <td>29</td>\n",
       "      <td>Ashok Nagar</td>\n",
       "      <td>4.1</td>\n",
       "      <td>1000.0</td>\n",
       "    </tr>\n",
       "    <tr>\n",
       "      <th>1</th>\n",
       "      <td>100002</td>\n",
       "      <td>Meghana Foods</td>\n",
       "      <td>Biryani, Andhra, South Indian, North Indian, C...</td>\n",
       "      <td>250</td>\n",
       "      <td>24</td>\n",
       "      <td>Ashok Nagar</td>\n",
       "      <td>4.5</td>\n",
       "      <td>10000.0</td>\n",
       "    </tr>\n",
       "    <tr>\n",
       "      <th>2</th>\n",
       "      <td>100003</td>\n",
       "      <td>Hotel Empire</td>\n",
       "      <td>North Indian, Kebabs, Biryani</td>\n",
       "      <td>225</td>\n",
       "      <td>29</td>\n",
       "      <td>Brigade Road</td>\n",
       "      <td>4.3</td>\n",
       "      <td>10000.0</td>\n",
       "    </tr>\n",
       "    <tr>\n",
       "      <th>3</th>\n",
       "      <td>100004</td>\n",
       "      <td>Kannur Food Point</td>\n",
       "      <td>Kerala, Chinese</td>\n",
       "      <td>150</td>\n",
       "      <td>29</td>\n",
       "      <td>Tavarekere</td>\n",
       "      <td>3.9</td>\n",
       "      <td>10000.0</td>\n",
       "    </tr>\n",
       "    <tr>\n",
       "      <th>4</th>\n",
       "      <td>100005</td>\n",
       "      <td>N.Razakhiya Hotel</td>\n",
       "      <td>North Indian, Chinese, Tandoor, Sweets, Beverages</td>\n",
       "      <td>150</td>\n",
       "      <td>34</td>\n",
       "      <td>Nagawara</td>\n",
       "      <td>3.9</td>\n",
       "      <td>1000.0</td>\n",
       "    </tr>\n",
       "  </tbody>\n",
       "</table>\n",
       "</div>"
      ],
      "text/plain": [
       "   Restaurant_ID             Restaurant_Name  \\\n",
       "0         100001  Easy Bites by Hotel Empire   \n",
       "1         100002               Meghana Foods   \n",
       "2         100003                Hotel Empire   \n",
       "3         100004           Kannur Food Point   \n",
       "4         100005           N.Razakhiya Hotel   \n",
       "\n",
       "                                            Cuisines  Price_for_One  \\\n",
       "0                       Snacks, Fast Food, Beverages             75   \n",
       "1  Biryani, Andhra, South Indian, North Indian, C...            250   \n",
       "2                      North Indian, Kebabs, Biryani            225   \n",
       "3                                    Kerala, Chinese            150   \n",
       "4  North Indian, Chinese, Tandoor, Sweets, Beverages            150   \n",
       "\n",
       "   Delivery_Time      Location  Rating  Delivery_review_number  \n",
       "0             29   Ashok Nagar     4.1                  1000.0  \n",
       "1             24   Ashok Nagar     4.5                 10000.0  \n",
       "2             29  Brigade Road     4.3                 10000.0  \n",
       "3             29    Tavarekere     3.9                 10000.0  \n",
       "4             34      Nagawara     3.9                  1000.0  "
      ]
     },
     "execution_count": 51,
     "metadata": {},
     "output_type": "execute_result"
    }
   ],
   "source": [
    "df.head()"
   ]
  },
  {
   "cell_type": "code",
   "execution_count": 55,
   "id": "7f532205",
   "metadata": {
    "scrolled": true
   },
   "outputs": [
    {
     "data": {
      "text/html": [
       "<div>\n",
       "<style scoped>\n",
       "    .dataframe tbody tr th:only-of-type {\n",
       "        vertical-align: middle;\n",
       "    }\n",
       "\n",
       "    .dataframe tbody tr th {\n",
       "        vertical-align: top;\n",
       "    }\n",
       "\n",
       "    .dataframe thead th {\n",
       "        text-align: right;\n",
       "    }\n",
       "</style>\n",
       "<table border=\"1\" class=\"dataframe\">\n",
       "  <thead>\n",
       "    <tr style=\"text-align: right;\">\n",
       "      <th></th>\n",
       "      <th>Location</th>\n",
       "      <th>Price_for_One</th>\n",
       "      <th>Delivery_Time</th>\n",
       "      <th>Rating</th>\n",
       "      <th>Delivery_review_number</th>\n",
       "    </tr>\n",
       "  </thead>\n",
       "  <tbody>\n",
       "    <tr>\n",
       "      <th>0</th>\n",
       "      <td>AUSTIN TOWN</td>\n",
       "      <td>150.000000</td>\n",
       "      <td>26.0</td>\n",
       "      <td>4.100000</td>\n",
       "      <td>20.0</td>\n",
       "    </tr>\n",
       "    <tr>\n",
       "      <th>1</th>\n",
       "      <td>Adugodi</td>\n",
       "      <td>131.250000</td>\n",
       "      <td>30.0</td>\n",
       "      <td>3.800000</td>\n",
       "      <td>2950.0</td>\n",
       "    </tr>\n",
       "    <tr>\n",
       "      <th>2</th>\n",
       "      <td>Ashok Nagar</td>\n",
       "      <td>261.757143</td>\n",
       "      <td>29.8</td>\n",
       "      <td>4.198571</td>\n",
       "      <td>140860.0</td>\n",
       "    </tr>\n",
       "    <tr>\n",
       "      <th>3</th>\n",
       "      <td>Audgodi</td>\n",
       "      <td>100.000000</td>\n",
       "      <td>24.0</td>\n",
       "      <td>4.600000</td>\n",
       "      <td>100.0</td>\n",
       "    </tr>\n",
       "    <tr>\n",
       "      <th>4</th>\n",
       "      <td>Austin Town</td>\n",
       "      <td>100.000000</td>\n",
       "      <td>21.0</td>\n",
       "      <td>4.000000</td>\n",
       "      <td>5000.0</td>\n",
       "    </tr>\n",
       "  </tbody>\n",
       "</table>\n",
       "</div>"
      ],
      "text/plain": [
       "      Location  Price_for_One  Delivery_Time    Rating  Delivery_review_number\n",
       "0  AUSTIN TOWN     150.000000           26.0  4.100000                    20.0\n",
       "1      Adugodi     131.250000           30.0  3.800000                  2950.0\n",
       "2  Ashok Nagar     261.757143           29.8  4.198571                140860.0\n",
       "3      Audgodi     100.000000           24.0  4.600000                   100.0\n",
       "4  Austin Town     100.000000           21.0  4.000000                  5000.0"
      ]
     },
     "execution_count": 55,
     "metadata": {},
     "output_type": "execute_result"
    }
   ],
   "source": [
    "df2=df.groupby(\"Location\", as_index=False).agg({\"Price_for_One\":\"mean\", \"Delivery_Time\":\"mean\",\"Rating\":\"mean\",\"Delivery_review_number\":\"sum\"})\n",
    "df2.head()"
   ]
  },
  {
   "cell_type": "code",
   "execution_count": null,
   "id": "a3b82395",
   "metadata": {},
   "outputs": [],
   "source": []
  },
  {
   "cell_type": "code",
   "execution_count": null,
   "id": "ba322188",
   "metadata": {},
   "outputs": [],
   "source": []
  }
 ],
 "metadata": {
  "kernelspec": {
   "display_name": "Python 3 (ipykernel)",
   "language": "python",
   "name": "python3"
  },
  "language_info": {
   "codemirror_mode": {
    "name": "ipython",
    "version": 3
   },
   "file_extension": ".py",
   "mimetype": "text/x-python",
   "name": "python",
   "nbconvert_exporter": "python",
   "pygments_lexer": "ipython3",
   "version": "3.9.13"
  }
 },
 "nbformat": 4,
 "nbformat_minor": 5
}
